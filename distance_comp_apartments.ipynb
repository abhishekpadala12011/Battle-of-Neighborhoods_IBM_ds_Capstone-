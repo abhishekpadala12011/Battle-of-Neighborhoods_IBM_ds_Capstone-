{
 "cells": [
  {
   "cell_type": "code",
   "execution_count": 3,
   "metadata": {},
   "outputs": [],
   "source": [
    "import pandas as pd\n",
    "import numpy as np"
   ]
  },
  {
   "cell_type": "code",
   "execution_count": 12,
   "metadata": {},
   "outputs": [],
   "source": [
    "xls = pd.ExcelFile('/Users/abhishekpadala/Desktop/Book2.xlsx')\n",
    "Rents = pd.read_excel(xls, 'rent_reverse1')\n",
    "\n"
   ]
  },
  {
   "cell_type": "raw",
   "metadata": {},
   "source": [
    "Rents.head()"
   ]
  },
  {
   "cell_type": "code",
   "execution_count": 13,
   "metadata": {},
   "outputs": [
    {
     "name": "stdout",
     "output_type": "stream",
     "text": [
      "Requirement already satisfied: geopy in /Users/abhishekpadala/anaconda3/lib/python3.8/site-packages (2.0.0)\r\n",
      "Requirement already satisfied: geographiclib<2,>=1.49 in /Users/abhishekpadala/anaconda3/lib/python3.8/site-packages (from geopy) (1.50)\r\n"
     ]
    }
   ],
   "source": [
    "!pip install geopy"
   ]
  },
  {
   "cell_type": "code",
   "execution_count": 14,
   "metadata": {},
   "outputs": [],
   "source": [
    "from geopy.distance import geodesic "
   ]
  },
  {
   "cell_type": "code",
   "execution_count": 15,
   "metadata": {},
   "outputs": [],
   "source": [
    "from geopy.distance import geodesic \n",
    "comp_lat1 = 43.653226\n",
    "comp_long1 = -79.3831843\n",
    "comp_name1 = 'AMZN CAN Fulfillment Svcs, ULC , Toronto , ON'\n",
    "rent_loc1 = Rents['Location']\n",
    "rent_lat1 = Rents['lat']\n",
    "rent_long1 = Rents['long']  "
   ]
  },
  {
   "cell_type": "code",
   "execution_count": 16,
   "metadata": {},
   "outputs": [
    {
     "ename": "ValueError",
     "evalue": "5 columns passed, passed data had 4 columns",
     "output_type": "error",
     "traceback": [
      "\u001b[0;31m---------------------------------------------------------------------------\u001b[0m",
      "\u001b[0;31mAssertionError\u001b[0m                            Traceback (most recent call last)",
      "\u001b[0;32m~/anaconda3/lib/python3.8/site-packages/pandas/core/internals/construction.py\u001b[0m in \u001b[0;36m_list_to_arrays\u001b[0;34m(data, columns, coerce_float, dtype)\u001b[0m\n\u001b[1;32m    495\u001b[0m     \u001b[0;32mtry\u001b[0m\u001b[0;34m:\u001b[0m\u001b[0;34m\u001b[0m\u001b[0;34m\u001b[0m\u001b[0m\n\u001b[0;32m--> 496\u001b[0;31m         result = _convert_object_array(\n\u001b[0m\u001b[1;32m    497\u001b[0m             \u001b[0mcontent\u001b[0m\u001b[0;34m,\u001b[0m \u001b[0mcolumns\u001b[0m\u001b[0;34m,\u001b[0m \u001b[0mdtype\u001b[0m\u001b[0;34m=\u001b[0m\u001b[0mdtype\u001b[0m\u001b[0;34m,\u001b[0m \u001b[0mcoerce_float\u001b[0m\u001b[0;34m=\u001b[0m\u001b[0mcoerce_float\u001b[0m\u001b[0;34m\u001b[0m\u001b[0;34m\u001b[0m\u001b[0m\n",
      "\u001b[0;32m~/anaconda3/lib/python3.8/site-packages/pandas/core/internals/construction.py\u001b[0m in \u001b[0;36m_convert_object_array\u001b[0;34m(content, columns, coerce_float, dtype)\u001b[0m\n\u001b[1;32m    579\u001b[0m             \u001b[0;31m# caller's responsibility to check for this...\u001b[0m\u001b[0;34m\u001b[0m\u001b[0;34m\u001b[0m\u001b[0;34m\u001b[0m\u001b[0m\n\u001b[0;32m--> 580\u001b[0;31m             raise AssertionError(\n\u001b[0m\u001b[1;32m    581\u001b[0m                 \u001b[0;34mf\"{len(columns)} columns passed, passed data had \"\u001b[0m\u001b[0;34m\u001b[0m\u001b[0;34m\u001b[0m\u001b[0m\n",
      "\u001b[0;31mAssertionError\u001b[0m: 5 columns passed, passed data had 4 columns",
      "\nThe above exception was the direct cause of the following exception:\n",
      "\u001b[0;31mValueError\u001b[0m                                Traceback (most recent call last)",
      "\u001b[0;32m<ipython-input-16-12e358838a07>\u001b[0m in \u001b[0;36m<module>\u001b[0;34m\u001b[0m\n\u001b[1;32m      8\u001b[0m     \u001b[0mdist\u001b[0m \u001b[0;34m=\u001b[0m \u001b[0mgeodesic\u001b[0m\u001b[0;34m(\u001b[0m\u001b[0mcomp_add\u001b[0m\u001b[0;34m,\u001b[0m \u001b[0mrent_add\u001b[0m\u001b[0;34m)\u001b[0m\u001b[0;34m.\u001b[0m\u001b[0mkm\u001b[0m\u001b[0;34m\u001b[0m\u001b[0;34m\u001b[0m\u001b[0m\n\u001b[1;32m      9\u001b[0m     \u001b[0mdistance\u001b[0m\u001b[0;34m.\u001b[0m\u001b[0mappend\u001b[0m\u001b[0;34m(\u001b[0m\u001b[0;34m(\u001b[0m\u001b[0mcomp_name\u001b[0m\u001b[0;34m,\u001b[0m \u001b[0mdist\u001b[0m\u001b[0;34m,\u001b[0m \u001b[0mrent_loc\u001b[0m\u001b[0;34m,\u001b[0m \u001b[0mrent_add\u001b[0m\u001b[0;34m)\u001b[0m\u001b[0;34m)\u001b[0m\u001b[0;34m\u001b[0m\u001b[0;34m\u001b[0m\u001b[0m\n\u001b[0;32m---> 10\u001b[0;31m \u001b[0mdf1\u001b[0m\u001b[0;34m=\u001b[0m\u001b[0mpd\u001b[0m\u001b[0;34m.\u001b[0m\u001b[0mDataFrame\u001b[0m\u001b[0;34m(\u001b[0m\u001b[0mdistance\u001b[0m\u001b[0;34m,\u001b[0m \u001b[0mcolumns\u001b[0m\u001b[0;34m=\u001b[0m\u001b[0;34m[\u001b[0m\u001b[0;34m'comp_name'\u001b[0m\u001b[0;34m,\u001b[0m \u001b[0;34m'dist'\u001b[0m\u001b[0;34m,\u001b[0m \u001b[0;34m'rent_loc'\u001b[0m\u001b[0;34m,\u001b[0m \u001b[0;34m'rent_add'\u001b[0m\u001b[0;34m,\u001b[0m\u001b[0;34m'Rent'\u001b[0m\u001b[0;34m]\u001b[0m\u001b[0;34m)\u001b[0m\u001b[0;34m\u001b[0m\u001b[0;34m\u001b[0m\u001b[0m\n\u001b[0m\u001b[1;32m     11\u001b[0m \u001b[0mdf1\u001b[0m\u001b[0;34m.\u001b[0m\u001b[0mhead\u001b[0m\u001b[0;34m(\u001b[0m\u001b[0;34m)\u001b[0m\u001b[0;34m\u001b[0m\u001b[0;34m\u001b[0m\u001b[0m\n",
      "\u001b[0;32m~/anaconda3/lib/python3.8/site-packages/pandas/core/frame.py\u001b[0m in \u001b[0;36m__init__\u001b[0;34m(self, data, index, columns, dtype, copy)\u001b[0m\n\u001b[1;32m    472\u001b[0m                     \u001b[0;32mif\u001b[0m \u001b[0mis_named_tuple\u001b[0m\u001b[0;34m(\u001b[0m\u001b[0mdata\u001b[0m\u001b[0;34m[\u001b[0m\u001b[0;36m0\u001b[0m\u001b[0;34m]\u001b[0m\u001b[0;34m)\u001b[0m \u001b[0;32mand\u001b[0m \u001b[0mcolumns\u001b[0m \u001b[0;32mis\u001b[0m \u001b[0;32mNone\u001b[0m\u001b[0;34m:\u001b[0m\u001b[0;34m\u001b[0m\u001b[0;34m\u001b[0m\u001b[0m\n\u001b[1;32m    473\u001b[0m                         \u001b[0mcolumns\u001b[0m \u001b[0;34m=\u001b[0m \u001b[0mdata\u001b[0m\u001b[0;34m[\u001b[0m\u001b[0;36m0\u001b[0m\u001b[0;34m]\u001b[0m\u001b[0;34m.\u001b[0m\u001b[0m_fields\u001b[0m\u001b[0;34m\u001b[0m\u001b[0;34m\u001b[0m\u001b[0m\n\u001b[0;32m--> 474\u001b[0;31m                     \u001b[0marrays\u001b[0m\u001b[0;34m,\u001b[0m \u001b[0mcolumns\u001b[0m \u001b[0;34m=\u001b[0m \u001b[0mto_arrays\u001b[0m\u001b[0;34m(\u001b[0m\u001b[0mdata\u001b[0m\u001b[0;34m,\u001b[0m \u001b[0mcolumns\u001b[0m\u001b[0;34m,\u001b[0m \u001b[0mdtype\u001b[0m\u001b[0;34m=\u001b[0m\u001b[0mdtype\u001b[0m\u001b[0;34m)\u001b[0m\u001b[0;34m\u001b[0m\u001b[0;34m\u001b[0m\u001b[0m\n\u001b[0m\u001b[1;32m    475\u001b[0m                     \u001b[0mcolumns\u001b[0m \u001b[0;34m=\u001b[0m \u001b[0mensure_index\u001b[0m\u001b[0;34m(\u001b[0m\u001b[0mcolumns\u001b[0m\u001b[0;34m)\u001b[0m\u001b[0;34m\u001b[0m\u001b[0;34m\u001b[0m\u001b[0m\n\u001b[1;32m    476\u001b[0m \u001b[0;34m\u001b[0m\u001b[0m\n",
      "\u001b[0;32m~/anaconda3/lib/python3.8/site-packages/pandas/core/internals/construction.py\u001b[0m in \u001b[0;36mto_arrays\u001b[0;34m(data, columns, coerce_float, dtype)\u001b[0m\n\u001b[1;32m    459\u001b[0m         \u001b[0;32mreturn\u001b[0m \u001b[0;34m[\u001b[0m\u001b[0;34m]\u001b[0m\u001b[0;34m,\u001b[0m \u001b[0;34m[\u001b[0m\u001b[0;34m]\u001b[0m  \u001b[0;31m# columns if columns is not None else []\u001b[0m\u001b[0;34m\u001b[0m\u001b[0;34m\u001b[0m\u001b[0m\n\u001b[1;32m    460\u001b[0m     \u001b[0;32mif\u001b[0m \u001b[0misinstance\u001b[0m\u001b[0;34m(\u001b[0m\u001b[0mdata\u001b[0m\u001b[0;34m[\u001b[0m\u001b[0;36m0\u001b[0m\u001b[0;34m]\u001b[0m\u001b[0;34m,\u001b[0m \u001b[0;34m(\u001b[0m\u001b[0mlist\u001b[0m\u001b[0;34m,\u001b[0m \u001b[0mtuple\u001b[0m\u001b[0;34m)\u001b[0m\u001b[0;34m)\u001b[0m\u001b[0;34m:\u001b[0m\u001b[0;34m\u001b[0m\u001b[0;34m\u001b[0m\u001b[0m\n\u001b[0;32m--> 461\u001b[0;31m         \u001b[0;32mreturn\u001b[0m \u001b[0m_list_to_arrays\u001b[0m\u001b[0;34m(\u001b[0m\u001b[0mdata\u001b[0m\u001b[0;34m,\u001b[0m \u001b[0mcolumns\u001b[0m\u001b[0;34m,\u001b[0m \u001b[0mcoerce_float\u001b[0m\u001b[0;34m=\u001b[0m\u001b[0mcoerce_float\u001b[0m\u001b[0;34m,\u001b[0m \u001b[0mdtype\u001b[0m\u001b[0;34m=\u001b[0m\u001b[0mdtype\u001b[0m\u001b[0;34m)\u001b[0m\u001b[0;34m\u001b[0m\u001b[0;34m\u001b[0m\u001b[0m\n\u001b[0m\u001b[1;32m    462\u001b[0m     \u001b[0;32melif\u001b[0m \u001b[0misinstance\u001b[0m\u001b[0;34m(\u001b[0m\u001b[0mdata\u001b[0m\u001b[0;34m[\u001b[0m\u001b[0;36m0\u001b[0m\u001b[0;34m]\u001b[0m\u001b[0;34m,\u001b[0m \u001b[0mabc\u001b[0m\u001b[0;34m.\u001b[0m\u001b[0mMapping\u001b[0m\u001b[0;34m)\u001b[0m\u001b[0;34m:\u001b[0m\u001b[0;34m\u001b[0m\u001b[0;34m\u001b[0m\u001b[0m\n\u001b[1;32m    463\u001b[0m         return _list_of_dict_to_arrays(\n",
      "\u001b[0;32m~/anaconda3/lib/python3.8/site-packages/pandas/core/internals/construction.py\u001b[0m in \u001b[0;36m_list_to_arrays\u001b[0;34m(data, columns, coerce_float, dtype)\u001b[0m\n\u001b[1;32m    498\u001b[0m         )\n\u001b[1;32m    499\u001b[0m     \u001b[0;32mexcept\u001b[0m \u001b[0mAssertionError\u001b[0m \u001b[0;32mas\u001b[0m \u001b[0me\u001b[0m\u001b[0;34m:\u001b[0m\u001b[0;34m\u001b[0m\u001b[0;34m\u001b[0m\u001b[0m\n\u001b[0;32m--> 500\u001b[0;31m         \u001b[0;32mraise\u001b[0m \u001b[0mValueError\u001b[0m\u001b[0;34m(\u001b[0m\u001b[0me\u001b[0m\u001b[0;34m)\u001b[0m \u001b[0;32mfrom\u001b[0m \u001b[0me\u001b[0m\u001b[0;34m\u001b[0m\u001b[0;34m\u001b[0m\u001b[0m\n\u001b[0m\u001b[1;32m    501\u001b[0m     \u001b[0;32mreturn\u001b[0m \u001b[0mresult\u001b[0m\u001b[0;34m\u001b[0m\u001b[0;34m\u001b[0m\u001b[0m\n\u001b[1;32m    502\u001b[0m \u001b[0;34m\u001b[0m\u001b[0m\n",
      "\u001b[0;31mValueError\u001b[0m: 5 columns passed, passed data had 4 columns"
     ]
    }
   ],
   "source": [
    "distance = []\n",
    "comp_add = comp_lat1, comp_long1\n",
    "comp_name = comp_name1\n",
    "  \n",
    "for i in range(0, 659):\n",
    "    rent_add = rent_lat1[i], rent_long1[i]\n",
    "    rent_loc = rent_loc1[i]\n",
    "    dist = geodesic(comp_add, rent_add).km\n",
    "    distance.append((comp_name, dist, rent_loc, rent_add))\n",
    "df1=pd.DataFrame(distance, columns=['comp_name', 'dist', 'rent_loc', 'rent_add','Rent'])\n",
    "df1.head()"
   ]
  },
  {
   "cell_type": "code",
   "execution_count": null,
   "metadata": {},
   "outputs": [],
   "source": [
    "df1.shape"
   ]
  },
  {
   "cell_type": "code",
   "execution_count": 10,
   "metadata": {},
   "outputs": [],
   "source": [
    "df1.to_excel('dist_comp_rents.xlsx')"
   ]
  },
  {
   "cell_type": "code",
   "execution_count": 24,
   "metadata": {},
   "outputs": [
    {
     "data": {
      "text/html": [
       "<div>\n",
       "<style scoped>\n",
       "    .dataframe tbody tr th:only-of-type {\n",
       "        vertical-align: middle;\n",
       "    }\n",
       "\n",
       "    .dataframe tbody tr th {\n",
       "        vertical-align: top;\n",
       "    }\n",
       "\n",
       "    .dataframe thead th {\n",
       "        text-align: right;\n",
       "    }\n",
       "</style>\n",
       "<table border=\"1\" class=\"dataframe\">\n",
       "  <thead>\n",
       "    <tr style=\"text-align: right;\">\n",
       "      <th></th>\n",
       "      <th>comp_name</th>\n",
       "      <th>dist</th>\n",
       "      <th>rent_loc</th>\n",
       "      <th>rent_add</th>\n",
       "    </tr>\n",
       "  </thead>\n",
       "  <tbody>\n",
       "    <tr>\n",
       "      <th>0</th>\n",
       "      <td>AMZN CAN Fulfillment Svcs, ULC , Toronto , ON</td>\n",
       "      <td>0.310973</td>\n",
       "      <td>70 Temperance St, Unit 4116,Toronto,Ontario</td>\n",
       "      <td>(43.6505301, -79.3821482)</td>\n",
       "    </tr>\n",
       "    <tr>\n",
       "      <th>1</th>\n",
       "      <td>AMZN CAN Fulfillment Svcs, ULC , Toronto , ON</td>\n",
       "      <td>0.320038</td>\n",
       "      <td>197 Yonge Street St, Unit 2104,Toronto,Ontario</td>\n",
       "      <td>(43.6535246, -79.3792385)</td>\n",
       "    </tr>\n",
       "    <tr>\n",
       "      <th>2</th>\n",
       "      <td>AMZN CAN Fulfillment Svcs, ULC , Toronto , ON</td>\n",
       "      <td>1.029993</td>\n",
       "      <td>403 Church St, Unit 1711,Toronto,Ontario</td>\n",
       "      <td>(43.6620656, -79.37933710000001)</td>\n",
       "    </tr>\n",
       "    <tr>\n",
       "      <th>3</th>\n",
       "      <td>AMZN CAN Fulfillment Svcs, ULC , Toronto , ON</td>\n",
       "      <td>1.199541</td>\n",
       "      <td>25 Oxley St, Unit 413,Toronto,Ontario</td>\n",
       "      <td>(43.6462468, -79.39452849999998)</td>\n",
       "    </tr>\n",
       "    <tr>\n",
       "      <th>4</th>\n",
       "      <td>AMZN CAN Fulfillment Svcs, ULC , Toronto , ON</td>\n",
       "      <td>1.019601</td>\n",
       "      <td>87 Peter St, Unit 2701,Toronto,Ontario</td>\n",
       "      <td>(43.6469441, -79.3923973)</td>\n",
       "    </tr>\n",
       "    <tr>\n",
       "      <th>...</th>\n",
       "      <td>...</td>\n",
       "      <td>...</td>\n",
       "      <td>...</td>\n",
       "      <td>...</td>\n",
       "    </tr>\n",
       "    <tr>\n",
       "      <th>654</th>\n",
       "      <td>AMZN CAN Fulfillment Svcs, ULC , Toronto , ON</td>\n",
       "      <td>0.441837</td>\n",
       "      <td>426 University Ave, Unit 907,Toronto,Ontario</td>\n",
       "      <td>(43.6539487, -79.38857010000002)</td>\n",
       "    </tr>\n",
       "    <tr>\n",
       "      <th>655</th>\n",
       "      <td>AMZN CAN Fulfillment Svcs, ULC , Toronto , ON</td>\n",
       "      <td>0.879456</td>\n",
       "      <td>21 Carlton St, Unit 2604,Toronto,Ontario</td>\n",
       "      <td>(43.66110270000001, -79.3821061)</td>\n",
       "    </tr>\n",
       "    <tr>\n",
       "      <th>656</th>\n",
       "      <td>AMZN CAN Fulfillment Svcs, ULC , Toronto , ON</td>\n",
       "      <td>0.310973</td>\n",
       "      <td>70 Temperance St, Unit 1616,Toronto,Ontario</td>\n",
       "      <td>(43.6505301, -79.3821482)</td>\n",
       "    </tr>\n",
       "    <tr>\n",
       "      <th>657</th>\n",
       "      <td>AMZN CAN Fulfillment Svcs, ULC , Toronto , ON</td>\n",
       "      <td>0.872133</td>\n",
       "      <td>318 Richmond St W St, Unit 3302,Toronto,Ontario</td>\n",
       "      <td>(43.6489001, -79.39220499999998)</td>\n",
       "    </tr>\n",
       "    <tr>\n",
       "      <th>658</th>\n",
       "      <td>AMZN CAN Fulfillment Svcs, ULC , Toronto , ON</td>\n",
       "      <td>0.763710</td>\n",
       "      <td>763 Bay St, Unit 1107,Toronto,Ontario</td>\n",
       "      <td>(43.6599441, -79.3851875)</td>\n",
       "    </tr>\n",
       "  </tbody>\n",
       "</table>\n",
       "<p>659 rows × 4 columns</p>\n",
       "</div>"
      ],
      "text/plain": [
       "                                         comp_name      dist  \\\n",
       "0    AMZN CAN Fulfillment Svcs, ULC , Toronto , ON  0.310973   \n",
       "1    AMZN CAN Fulfillment Svcs, ULC , Toronto , ON  0.320038   \n",
       "2    AMZN CAN Fulfillment Svcs, ULC , Toronto , ON  1.029993   \n",
       "3    AMZN CAN Fulfillment Svcs, ULC , Toronto , ON  1.199541   \n",
       "4    AMZN CAN Fulfillment Svcs, ULC , Toronto , ON  1.019601   \n",
       "..                                             ...       ...   \n",
       "654  AMZN CAN Fulfillment Svcs, ULC , Toronto , ON  0.441837   \n",
       "655  AMZN CAN Fulfillment Svcs, ULC , Toronto , ON  0.879456   \n",
       "656  AMZN CAN Fulfillment Svcs, ULC , Toronto , ON  0.310973   \n",
       "657  AMZN CAN Fulfillment Svcs, ULC , Toronto , ON  0.872133   \n",
       "658  AMZN CAN Fulfillment Svcs, ULC , Toronto , ON  0.763710   \n",
       "\n",
       "                                            rent_loc  \\\n",
       "0        70 Temperance St, Unit 4116,Toronto,Ontario   \n",
       "1     197 Yonge Street St, Unit 2104,Toronto,Ontario   \n",
       "2           403 Church St, Unit 1711,Toronto,Ontario   \n",
       "3              25 Oxley St, Unit 413,Toronto,Ontario   \n",
       "4             87 Peter St, Unit 2701,Toronto,Ontario   \n",
       "..                                               ...   \n",
       "654     426 University Ave, Unit 907,Toronto,Ontario   \n",
       "655         21 Carlton St, Unit 2604,Toronto,Ontario   \n",
       "656      70 Temperance St, Unit 1616,Toronto,Ontario   \n",
       "657  318 Richmond St W St, Unit 3302,Toronto,Ontario   \n",
       "658            763 Bay St, Unit 1107,Toronto,Ontario   \n",
       "\n",
       "                             rent_add  \n",
       "0           (43.6505301, -79.3821482)  \n",
       "1           (43.6535246, -79.3792385)  \n",
       "2    (43.6620656, -79.37933710000001)  \n",
       "3    (43.6462468, -79.39452849999998)  \n",
       "4           (43.6469441, -79.3923973)  \n",
       "..                                ...  \n",
       "654  (43.6539487, -79.38857010000002)  \n",
       "655  (43.66110270000001, -79.3821061)  \n",
       "656         (43.6505301, -79.3821482)  \n",
       "657  (43.6489001, -79.39220499999998)  \n",
       "658         (43.6599441, -79.3851875)  \n",
       "\n",
       "[659 rows x 4 columns]"
      ]
     },
     "execution_count": 24,
     "metadata": {},
     "output_type": "execute_result"
    }
   ],
   "source": [
    "df1"
   ]
  },
  {
   "cell_type": "code",
   "execution_count": null,
   "metadata": {},
   "outputs": [],
   "source": []
  }
 ],
 "metadata": {
  "kernelspec": {
   "display_name": "Python 3",
   "language": "python",
   "name": "python3"
  },
  "language_info": {
   "codemirror_mode": {
    "name": "ipython",
    "version": 3
   },
   "file_extension": ".py",
   "mimetype": "text/x-python",
   "name": "python",
   "nbconvert_exporter": "python",
   "pygments_lexer": "ipython3",
   "version": "3.8.3"
  }
 },
 "nbformat": 4,
 "nbformat_minor": 4
}
